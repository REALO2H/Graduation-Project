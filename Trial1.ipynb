{
 "cells": [
  {
   "cell_type": "markdown",
   "metadata": {},
   "source": [
    "Fetching"
   ]
  },
  {
   "cell_type": "code",
   "execution_count": null,
   "metadata": {},
   "outputs": [
    {
     "name": "stdout",
     "output_type": "stream",
     "text": [
      "      image  level\n",
      "0   10_left      0\n",
      "1  10_right      0\n",
      "2   13_left      0\n",
      "3  13_right      0\n",
      "4   15_left      1\n"
     ]
    }
   ],
   "source": [
    "import pandas as pd\n",
    "import os\n",
    "from PIL import Image\n",
    "import numpy as np\n",
    "import cv2\n",
    "\n",
    "\n",
    "\n",
    "\n",
    "labels_df = pd.read_csv('D:\\\\Graduation Project\\\\trainLabels.csv')\n",
    "print(labels_df.head())\n",
    "\n",
    "image_dir = 'D:\\\\Graduation Project\\\\Images\\\\train\\\\' \n",
    "\n",
    "def load_image(image_name):\n",
    "    file_extension = '.jpeg'\n",
    "    filename = f\"{image_name}{file_extension}\"\n",
    "    file_path = os.path.join(image_dir, filename)\n",
    "    return Image.open(file_path)\n",
    "\n",
    "sample_image = load_image(labels_df.iloc[0]['image'])\n",
    "sample_image.show()"
   ]
  },
  {
   "cell_type": "code",
   "execution_count": null,
   "metadata": {},
   "outputs": [],
   "source": [
    "def is_inverted(image):\n",
    "    # Convert to grayscale\n",
    "    gray = cv2.cvtColor(np.array(image), cv2.COLOR_RGB2GRAY)\n",
    "    \n",
    "    # Apply Gaussian Blur\n",
    "    blurred = cv2.GaussianBlur(gray, (5, 5), 0)\n",
    "    \n",
    "    # Edge Detection\n",
    "    edges = cv2.Canny(blurred, 50, 150)\n",
    "    \n",
    "    # Find contours\n",
    "    contours, _ = cv2.findContours(edges, cv2.RETR_TREE, cv2.CHAIN_APPROX_SIMPLE)\n",
    "    \n",
    "    # Initialize variables\n",
    "    optic_nerve_pos = None\n",
    "    macula_pos = None\n",
    "    notch_present = False\n",
    "    \n",
    "    # Analyze contours to find optic nerve, macula, and notch\n",
    "    # This is a simplified example; in practice, you'd need a more robust method\n",
    "    \n",
    "    # For demonstration, let's assume we have functions to detect these features\n",
    "    optic_nerve_pos = detect_optic_nerve(gray)\n",
    "    macula_pos = detect_macula(gray)\n",
    "    notch_present = detect_notch(gray)\n",
    "    \n",
    "    # Determine inversion based on criteria\n",
    "    if (macula_pos['y'] < optic_nerve_pos['y']) or not notch_present:\n",
    "        return True  # Image is inverted\n",
    "    else:\n",
    "        return False  # Image is not inverted\n",
    "\n",
    "def correct_inversion(image):\n",
    "    # Flip the image vertically\n",
    "    corrected_image = image.transpose(Image.FLIP_TOP_BOTTOM)\n",
    "    return corrected_image\n",
    "\n",
    "    #functions for feature detection\n",
    "def detect_optic_nerve(image):\n",
    "    #bedhom sho3'ol\n",
    "    pass\n",
    "\n",
    "def detect_macula(image):\n",
    "    #bedhom sho3'ol\n",
    "    #Macula detection logic\n",
    "    pass\n",
    "\n",
    "def detect_notch(image):\n",
    "    #bedhom sho3'ol\n",
    "    #Notch detection logic\n",
    "    pass"
   ]
  }
 ],
 "metadata": {
  "kernelspec": {
   "display_name": "Python 3",
   "language": "python",
   "name": "python3"
  },
  "language_info": {
   "codemirror_mode": {
    "name": "ipython",
    "version": 3
   },
   "file_extension": ".py",
   "mimetype": "text/x-python",
   "name": "python",
   "nbconvert_exporter": "python",
   "pygments_lexer": "ipython3",
   "version": "3.10.2"
  }
 },
 "nbformat": 4,
 "nbformat_minor": 2
}
